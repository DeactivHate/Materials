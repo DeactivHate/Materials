{
  "nbformat": 4,
  "nbformat_minor": 0,
  "metadata": {
    "colab": {
      "provenance": []
    },
    "kernelspec": {
      "name": "python3",
      "display_name": "Python 3"
    },
    "language_info": {
      "name": "python"
    }
  },
  "cells": [
    {
      "cell_type": "markdown",
      "source": [
        "**Natural Language Processing** is the field of Artificial Intelligence relating to the automatic processing of natural language (i.e. the languages we speak).\n",
        "\n",
        "The data analyzed in this context are linguistic == Texts"
      ],
      "metadata": {
        "id": "7y8dmOXUyaKH"
      }
    },
    {
      "cell_type": "markdown",
      "source": [
        "#First steps with STRINGS"
      ],
      "metadata": {
        "id": "MU9JV8oi0znX"
      }
    },
    {
      "cell_type": "code",
      "source": [
        "x = \"Hello student!\"\n",
        "print(x)"
      ],
      "metadata": {
        "id": "1J0xpgx30_aY"
      },
      "execution_count": null,
      "outputs": []
    },
    {
      "cell_type": "code",
      "source": [
        "x"
      ],
      "metadata": {
        "id": "dNUrA3-D9t7d"
      },
      "execution_count": null,
      "outputs": []
    },
    {
      "cell_type": "markdown",
      "source": [
        ">Strings are alphanumeric sequences of\n",
        "characters delimited by single ('hello') or double (\"hello\") quotes.\n",
        "\n",
        "Documentation:\n",
        "1. https://docs.python.org/3/library/stdtypes.html\n",
        "2. https://www.python.it/doc/Howtothink/Howtothink-html-it/chap07.htm\n"
      ],
      "metadata": {
        "id": "-Tl1o2S_1KIN"
      }
    },
    {
      "cell_type": "markdown",
      "source": [
        "1. assign the text ***The girl's house*** to the variable *x*\n",
        "\n",
        ">The backslash (\\\\) is the escape character, e.g.: `'The girl\\'s house'`"
      ],
      "metadata": {
        "id": "_QZprH1O09bL"
      }
    },
    {
      "cell_type": "code",
      "execution_count": null,
      "metadata": {
        "id": "40KTrGTRyH_W"
      },
      "outputs": [],
      "source": [
        "# Insert here your code\n",
        "\n",
        "# Solution:\n",
        "# x = \"The girl's house\"\n",
        "# print(x)\n",
        "\n",
        "# Alternative solution\n",
        "# x = 'The girl\\'s house'\n",
        "# print(x)"
      ]
    },
    {
      "cell_type": "markdown",
      "source": [
        "Operators for concatenating and repeating sequences: + and *"
      ],
      "metadata": {
        "id": "XuuaNxUlI5PS"
      }
    },
    {
      "cell_type": "markdown",
      "source": [
        "2. x='Hello' and y='World', concatenate the variables x and y to create the phrase ***Hello World***"
      ],
      "metadata": {
        "id": "cvaaO0E82kgv"
      }
    },
    {
      "cell_type": "code",
      "source": [
        "# Insert here your code\n",
        "\n",
        "# Solution:\n",
        "# x = 'Hello'\n",
        "# y = 'World'\n",
        "# print(x+' '+y)"
      ],
      "metadata": {
        "id": "Rwv3sy912hsx"
      },
      "execution_count": null,
      "outputs": []
    },
    {
      "cell_type": "markdown",
      "source": [
        "3. perform the multiplication of 10 * 3"
      ],
      "metadata": {
        "id": "F2hoHB2W28Ab"
      }
    },
    {
      "cell_type": "code",
      "source": [
        "# Solution:\n",
        "# x = '10'\n",
        "# print('Multiplication: ', int(x)*3)"
      ],
      "metadata": {
        "id": "hBgHFOAZ3yij"
      },
      "execution_count": null,
      "outputs": []
    },
    {
      "cell_type": "markdown",
      "source": [
        "4. write the word ***Banana*** using the * operator"
      ],
      "metadata": {
        "id": "sz_27j0BIAPI"
      }
    },
    {
      "cell_type": "code",
      "source": [
        "# Insert here your code\n",
        "\n",
        "# Solution:\n",
        "# 'Ba'+'na'*2\n",
        "\n",
        "\n",
        "# Alternative solution:\n",
        "# 'B' + 'an'*2 + 'a'"
      ],
      "metadata": {
        "id": "agmJbEN7H_ok"
      },
      "execution_count": null,
      "outputs": []
    },
    {
      "cell_type": "markdown",
      "source": [
        "5. concatenate the variables x = 10 is = \"my grade is \" to create the sentence *my grade is 10*"
      ],
      "metadata": {
        "id": "tfhTrPp639aJ"
      }
    },
    {
      "cell_type": "code",
      "source": [
        "# Insert here your code\n",
        "\n",
        "# Solution:\n",
        "# x = 10\n",
        "# y = 'my grade is'\n",
        "# y + ' '+ str(x)"
      ],
      "metadata": {
        "id": "tnODDxNu4fHe"
      },
      "execution_count": null,
      "outputs": []
    },
    {
      "cell_type": "markdown",
      "source": [
        "6. assign to the variable x an input word that can complete the sentence *I want...*, using the function [input()](https://docs.python.org/3/library/functions.html#input )"
      ],
      "metadata": {
        "id": "rxZnySmN4fo5"
      }
    },
    {
      "cell_type": "code",
      "source": [
        "y = \"I want... \"\n",
        "\n",
        "# Solution:\n",
        "# x = input()"
      ],
      "metadata": {
        "id": "gN-WzA395bsd"
      },
      "execution_count": null,
      "outputs": []
    },
    {
      "cell_type": "code",
      "source": [
        "# Print the complete sentence 'I want... to go to the seaside'\n",
        "\n",
        "# Solution:\n",
        "# print(y + ' '+ x)"
      ],
      "metadata": {
        "id": "BJlUcSsO5RKu"
      },
      "execution_count": null,
      "outputs": []
    },
    {
      "cell_type": "markdown",
      "source": [
        "String as a sequence of characters:\n",
        "> documentation at https://docs.python.org/3/library/stdtypes.html"
      ],
      "metadata": {
        "id": "5OuItq4LJ8Ot"
      }
    },
    {
      "cell_type": "markdown",
      "source": [
        "7. print the length of the word *#DeactivHate*"
      ],
      "metadata": {
        "id": "jR_uUKpPK6BO"
      }
    },
    {
      "cell_type": "code",
      "source": [
        "# Solution:\n",
        "# len('#DeactivHate')"
      ],
      "metadata": {
        "id": "dEbODnmnLagB"
      },
      "execution_count": null,
      "outputs": []
    },
    {
      "cell_type": "markdown",
      "source": [
        "8. extract the first and seventh characters of the word *#DeactivHate*"
      ],
      "metadata": {
        "id": "46qBGTe4G5hF"
      }
    },
    {
      "cell_type": "code",
      "source": [
        "# Solution:\n",
        "# string = '#DeactivHate'\n",
        "# print(string[0], string[6])"
      ],
      "metadata": {
        "id": "XwYNNVTlHTAF"
      },
      "execution_count": null,
      "outputs": []
    },
    {
      "cell_type": "markdown",
      "source": [
        "9. extract from the eighth to the last character of the word *#DeactivHate*"
      ],
      "metadata": {
        "id": "_mCj1AS0HTaI"
      }
    },
    {
      "cell_type": "code",
      "source": [
        "# Solution:\n",
        "# string[7:]"
      ],
      "metadata": {
        "id": "i3bSR210JSpd"
      },
      "execution_count": null,
      "outputs": []
    },
    {
      "cell_type": "markdown",
      "source": [
        "Containment operators: *in* and *not in*"
      ],
      "metadata": {
        "id": "lNcKixoHLj9S"
      }
    },
    {
      "cell_type": "markdown",
      "source": [
        "10. Check if the sequences of characters *ac* and *eg* are inside the word *#DeactivHate*"
      ],
      "metadata": {
        "id": "SJha1NvyLwWd"
      }
    },
    {
      "cell_type": "code",
      "source": [
        "# Solution:\n",
        "# print('ac' in string)\n",
        "# print('eg' in string)"
      ],
      "metadata": {
        "id": "PGNHvxEAHjLT"
      },
      "execution_count": null,
      "outputs": []
    },
    {
      "cell_type": "markdown",
      "source": [
        "Uppercase and lowercase: [upper() and lower()](https://docs.python.org/3/library/stdtypes.html)"
      ],
      "metadata": {
        "id": "jQNWYvHEMqeq"
      }
    },
    {
      "cell_type": "markdown",
      "source": [
        "11. convert only the *d* and *h* of the word *deactivhate* to uppercase"
      ],
      "metadata": {
        "id": "gM6JU_D7kApX"
      }
    },
    {
      "cell_type": "code",
      "source": [
        "# Solution:\n",
        "# 'd'.upper()+'eactiv'+'h'.upper()+'ate'"
      ],
      "metadata": {
        "id": "A-x-jbdfk56M"
      },
      "execution_count": null,
      "outputs": []
    },
    {
      "cell_type": "markdown",
      "source": [
        "##Text cleaning"
      ],
      "metadata": {
        "id": "rvmH24ZYB4dF"
      }
    },
    {
      "cell_type": "markdown",
      "source": [
        "12. delete the string '@user' from the text '@user @user Is repatriating criminals waging war on the poor?', using the [replace()] method (https://docs.python.org/3/library/stdtypes.html)"
      ],
      "metadata": {
        "id": "CnLoMRbqwOaF"
      }
    },
    {
      "cell_type": "code",
      "source": [
        "text = \"@user @user Is repatriating criminals waging war on the poor? Is that so? Why? Why?\"\n",
        "\n",
        "# Solution:\n",
        "# text_withoutUser = text.replace('@user', '')\n",
        "# text_withoutUser"
      ],
      "metadata": {
        "id": "69nh0QVfwpjx"
      },
      "execution_count": null,
      "outputs": []
    },
    {
      "cell_type": "markdown",
      "source": [
        "13. the string resulting from exercise (12) has extra spaces, eliminate them using the [strip()] method (https://docs.python.org/3/library/stdtypes.html)"
      ],
      "metadata": {
        "id": "L16m7D_QxtCv"
      }
    },
    {
      "cell_type": "code",
      "source": [
        "# Solution:\n",
        "# text_withoutExtraSpace = text_withoutUser.strip()\n",
        "# text_withoutExtraSpace"
      ],
      "metadata": {
        "id": "h0_J-fDjxlEh"
      },
      "execution_count": null,
      "outputs": []
    },
    {
      "cell_type": "markdown",
      "source": [
        "14. insert a space before each punctuation mark in the text resulting from the exercise (13)"
      ],
      "metadata": {
        "id": "GV9h3vnc46Du"
      }
    },
    {
      "cell_type": "code",
      "source": [
        "# Solution:\n",
        "# punt = ['.', '?', '!', ',']\n",
        "# for i in punt:\n",
        "#   if i in text_withoutExtraSpace:\n",
        "#     i_withSpace = ' '+i\n",
        "#     text_withoutExtraSpace = text_withoutExtraSpace.replace(i, i_withSpace)\n",
        "#     clean_text = text_withoutExtraSpace\n",
        "# clean_text"
      ],
      "metadata": {
        "id": "TjHeYK3c0Xpp"
      },
      "execution_count": null,
      "outputs": []
    },
    {
      "cell_type": "markdown",
      "source": [
        "15. converti tutte le lettere del testo risultante dall'esercizio (14) in minuscolo"
      ],
      "metadata": {
        "id": "Y7ifTPr95DTg"
      }
    },
    {
      "cell_type": "code",
      "source": [
        "# Solution:\n",
        "# lowercaseText = clean_text.lower()\n",
        "# lowercaseText"
      ],
      "metadata": {
        "id": "PI_jNP2n5P36"
      },
      "execution_count": null,
      "outputs": []
    },
    {
      "cell_type": "markdown",
      "source": [
        "We extract the significant words and create the vocabulary"
      ],
      "metadata": {
        "id": "iTh_JR_FCAPW"
      }
    },
    {
      "cell_type": "markdown",
      "source": [
        "16. convert the string resulting from exercise (15) into a list of tokens/words, using the [split()] method (https://docs.python.org/3/library/stdtypes.html)"
      ],
      "metadata": {
        "id": "NSym58Kaydnj"
      }
    },
    {
      "cell_type": "code",
      "source": [
        "# tokenList = lowercaseText.split()\n",
        "# tokenList"
      ],
      "metadata": {
        "id": "MfLeUdZ-ycuO"
      },
      "execution_count": null,
      "outputs": []
    },
    {
      "cell_type": "markdown",
      "source": [
        "17. eliminate very common words (also called stopwords) from the list of tokens resulting from the exercise (16)"
      ],
      "metadata": {
        "id": "CRDUcmXu3J-w"
      }
    },
    {
      "cell_type": "markdown",
      "source": [
        "stopwords are all those words that have a purely grammatical function such as prepositions, articles, etc..."
      ],
      "metadata": {
        "id": "2k4ZH75PCURT"
      }
    },
    {
      "cell_type": "code",
      "source": [
        "# stopwords = [\"a\", \"an\", \"and\", \"the\", \"is\", \"in\", \"on\", \"at\", \"for\", \"to\"]\n",
        "# tokenList_withoutStopWords = []\n",
        "\n",
        "# for i in tokenList:\n",
        "#   if i not in stopwords:\n",
        "#     tokenList_withoutStopWords.append(i)\n",
        "\n",
        "# tokenList_withoutStopWords"
      ],
      "metadata": {
        "id": "_XNm8VTU3W7X"
      },
      "execution_count": null,
      "outputs": []
    },
    {
      "cell_type": "markdown",
      "source": [
        "18. eliminate the punctuation marks from the list of tokens resulting from the exercise (17), thus creating the vocabulary of the text"
      ],
      "metadata": {
        "id": "RUpoq4A74BTC"
      }
    },
    {
      "cell_type": "code",
      "source": [
        "# vocabulary = []\n",
        "\n",
        "# for i in tokenList_withoutStopWords:\n",
        "#   if i not in punt:\n",
        "#     vocabulary.append(i)\n",
        "\n",
        "# vocabulary"
      ],
      "metadata": {
        "id": "f4rP4dSl4LZ2"
      },
      "execution_count": null,
      "outputs": []
    },
    {
      "cell_type": "markdown",
      "source": [
        "19. count how many times each word is contained in the vocabulary, using the [count()](https://docs.python.org/3/tutorial/datastructures.html) method applied to lists"
      ],
      "metadata": {
        "id": "LPtoLozL5_3d"
      }
    },
    {
      "cell_type": "code",
      "source": [
        "# for i in range(len(vocabulary)):\n",
        "#   print('the word ', vocabulary[i], 'is present ', vocabulary.count(vocabulary[i]), 'times')"
      ],
      "metadata": {
        "id": "jQutrjol6WJN"
      },
      "execution_count": null,
      "outputs": []
    },
    {
      "cell_type": "markdown",
      "source": [
        "20. print the length of the vocabulary containing this time one occurrence for each word, converting the list into a [set()](https://docs.python.org/3/tutorial/datastructures.html)"
      ],
      "metadata": {
        "id": "vNioH_Mx7fI0"
      }
    },
    {
      "cell_type": "code",
      "source": [
        "unique_vocabulary = set(vocabulary)\n",
        "unique_vocabulary"
      ],
      "metadata": {
        "id": "K-RasMij8MVT"
      },
      "execution_count": null,
      "outputs": []
    },
    {
      "cell_type": "code",
      "source": [
        "len(unique_vocabulary)"
      ],
      "metadata": {
        "id": "vqmeBzhA8_F5"
      },
      "execution_count": null,
      "outputs": []
    }
  ]
}